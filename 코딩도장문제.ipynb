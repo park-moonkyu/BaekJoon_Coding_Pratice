{
  "nbformat": 4,
  "nbformat_minor": 0,
  "metadata": {
    "colab": {
      "name": "코딩도장문제.ipynb",
      "provenance": [],
      "collapsed_sections": [],
      "authorship_tag": "ABX9TyNO1ebV7+GsF4jOGPxvu2vU",
      "include_colab_link": true
    },
    "kernelspec": {
      "name": "python3",
      "display_name": "Python 3"
    }
  },
  "cells": [
    {
      "cell_type": "markdown",
      "metadata": {
        "id": "view-in-github",
        "colab_type": "text"
      },
      "source": [
        "<a href=\"https://colab.research.google.com/github/park-moonkyu/Baekjoon/blob/master/%EC%BD%94%EB%94%A9%EB%8F%84%EC%9E%A5%EB%AC%B8%EC%A0%9C.ipynb\" target=\"_parent\"><img src=\"https://colab.research.google.com/assets/colab-badge.svg\" alt=\"Open In Colab\"/></a>"
      ]
    },
    {
      "cell_type": "code",
      "metadata": {
        "id": "pYtqv3_MCqnk",
        "colab_type": "code",
        "colab": {}
      },
      "source": [
        ""
      ],
      "execution_count": null,
      "outputs": []
    },
    {
      "cell_type": "markdown",
      "metadata": {
        "id": "pXKQMsJbCtXK",
        "colab_type": "text"
      },
      "source": [
        "#3주차\n"
      ]
    },
    {
      "cell_type": "markdown",
      "metadata": {
        "id": "_GkjyAJlDdnV",
        "colab_type": "text"
      },
      "source": [
        "# 문제 1\n",
        "\n",
        "2이상 1000이하 자연수의 집합에서 소수의 개수를 구하는 알고리즘을 작성하시오.\n",
        "\n"
      ]
    },
    {
      "cell_type": "code",
      "metadata": {
        "id": "1OXNvo-sENQF",
        "colab_type": "code",
        "colab": {
          "base_uri": "https://localhost:8080/",
          "height": 34
        },
        "outputId": "8ca526e9-3179-43d8-957f-322ea443e65e"
      },
      "source": [
        "def find(a):\n",
        "  temp=[]\n",
        "  for i in range(2,a+1,1):\n",
        "    temp.append(i)\n",
        "  temp.reverse()\n",
        "\n",
        "  count=0\n",
        "\n",
        "  for i in range(len(temp)):\n",
        "    for j in range(i+1,len(temp),1):\n",
        "      if temp[i]%temp[j]==0:\n",
        "        break\n",
        "      else:\n",
        "        if temp[j]==2:\n",
        "          count=count+1\n",
        "  return count\n",
        "\n",
        "find(1000)"
      ],
      "execution_count": 47,
      "outputs": [
        {
          "output_type": "execute_result",
          "data": {
            "text/plain": [
              "167"
            ]
          },
          "metadata": {
            "tags": []
          },
          "execution_count": 47
        }
      ]
    },
    {
      "cell_type": "code",
      "metadata": {
        "id": "t1SJmwTn5MEY",
        "colab_type": "code",
        "colab": {
          "base_uri": "https://localhost:8080/",
          "height": 34
        },
        "outputId": "4c2dd0d8-b8fd-44f7-cffe-109dac4c90e0"
      },
      "source": [
        "n=10\n",
        "a=[False,False]+[True]*(n-1)\n",
        "primes=[]\n",
        "\n",
        "for i in range(2,n+1):\n",
        "  if a[i]:\n",
        "    primes.append(i)\n",
        "    a[i*2::i]=[False]*((n-i)//i)\n",
        "\n",
        "print(len(primes))\n"
      ],
      "execution_count": 48,
      "outputs": [
        {
          "output_type": "stream",
          "text": [
            "4\n"
          ],
          "name": "stdout"
        }
      ]
    },
    {
      "cell_type": "markdown",
      "metadata": {
        "id": "L3yAdr9fDqMb",
        "colab_type": "text"
      },
      "source": [
        "#문제 2\n",
        "\n",
        "문제 설명\n",
        "n개의 닫힌 구간 [ai; bi]의 순열이 있습니다(i=1,2, ..., n). 이들 구간을 합쳐서 서로 겹치지 않는 닫힌 구간들의 합으로 나타낼 수 있습니다. 문제는 구간의 수를 최소로 하는 표현방법을 찾아내는 것입니다. 이 표현의 구간들은 출력 파일에서 반드시 증가하는 방향으로 나타나야 합니다. a <= b < c <= d 이고 또 그런 경우에만 구간 [a; b]와 [c; d]가 증가하는 방향이라고 말합니다.\n",
        "\n",
        "입력\n",
        "입력의 첫 줄에는 정수 n이 있습니다. (3 <= n <= 50000). 이것은 구간의 수를 나타냅니다. (i+1)번째 줄에는 한 개의 공백으로 구분되는 두 개의 정수 ai, bi가 있습니다. 이것은 구간 [ai; bi]를 나타내는 표현입니다. 각각은 그 구간의 시작과 끝을 나타냅니다. (1 <= ai <= bi <= 1000000)\n",
        "\n",
        "출력\n",
        "출력은 서로 겹치지 않는 모든 구간 쌍의 표현을 담고 있어야 합니다. 각 줄은 하나의 구간 표현을 담고 있어야 합니다. 이 표현은 각 구간의 시작과 끝을 나타내는 두 개의 정수와 그 사이의 공백 하나로 이뤄져야 합니다. 출력의 구간들은 증가하는 순서로 존재해야 합니다.\n",
        "\n",
        "\n",
        "Sample Input\n",
        "5\n",
        "5 6\n",
        "1 4\n",
        "10 10\n",
        "6 9\n",
        "8 10\n",
        "Sample Output\n",
        "1 4\n",
        "5 10\n",
        "\n"
      ]
    },
    {
      "cell_type": "code",
      "metadata": {
        "id": "rXVv3I8evE6f",
        "colab_type": "code",
        "colab": {
          "base_uri": "https://localhost:8080/",
          "height": 153
        },
        "outputId": "f7231ec7-bd16-49d4-d005-309aca258cc3"
      },
      "source": [
        "def interval(n):\n",
        "  intervals=[]\n",
        "  for i in range(n):\n",
        "    a,b=input().split()\n",
        "    intervals.append((int(a),int(b)))\n",
        " \n",
        "  #sort 함수 활용 !\n",
        "  intervals.sort()\n",
        "  res=intervals[:1]\n",
        "  print(res[-1])\n",
        "  for a,b in intervals:\n",
        "    minn,maxx=res[-1]\n",
        "    if a<=maxx:\n",
        "      maxx=max(b,maxx)\n",
        "      res[-1]=[minn,maxx]\n",
        "    else:\n",
        "      res.append((a,b))\n",
        "\n",
        "  print (res)\n",
        "\n",
        "a=input()\n",
        "interval(int(a))"
      ],
      "execution_count": 34,
      "outputs": [
        {
          "output_type": "stream",
          "text": [
            "5\n",
            "23 556\n",
            "12 78\n",
            "1 8\n",
            "5 8\n",
            "44 78\n",
            "(1, 8)\n",
            "[[1, 8], [12, 556]]\n"
          ],
          "name": "stdout"
        }
      ]
    },
    {
      "cell_type": "code",
      "metadata": {
        "id": "HOc6x36uxl86",
        "colab_type": "code",
        "colab": {}
      },
      "source": [
        "5\n"
      ],
      "execution_count": null,
      "outputs": []
    }
  ]
}